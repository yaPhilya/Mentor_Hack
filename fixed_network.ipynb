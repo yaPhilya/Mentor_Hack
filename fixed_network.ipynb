{
 "cells": [
  {
   "cell_type": "code",
   "execution_count": 1,
   "metadata": {
    "collapsed": true
   },
   "outputs": [],
   "source": [
    "from __future__ import absolute_import\n",
    "from __future__ import division\n",
    "from __future__ import print_function"
   ]
  },
  {
   "cell_type": "code",
   "execution_count": 2,
   "metadata": {
    "collapsed": false
   },
   "outputs": [
    {
     "name": "stdout",
     "output_type": "stream",
     "text": [
      "You have TensorFlow version 1.5.0\n"
     ]
    },
    {
     "name": "stderr",
     "output_type": "stream",
     "text": [
      "Using TensorFlow backend.\n"
     ]
    }
   ],
   "source": [
    "import itertools\n",
    "import os\n",
    "\n",
    "%matplotlib inline\n",
    "import matplotlib.pyplot as plt\n",
    "import numpy as np\n",
    "import pandas as pd\n",
    "import tensorflow as tf\n",
    "\n",
    "from sklearn.preprocessing import LabelBinarizer, LabelEncoder\n",
    "from sklearn.metrics import confusion_matrix\n",
    "\n",
    "# Michael change\n",
    "#from tensorflow import keras\n",
    "import keras\n",
    "\n",
    "from keras.models import Sequential\n",
    "from keras.layers import Dense, Activation, Dropout\n",
    "from keras.preprocessing import text, sequence\n",
    "from keras import utils\n",
    "\n",
    "# This code was tested with TensorFlow v1.4\n",
    "print(\"You have TensorFlow version\", tf.__version__)"
   ]
  },
  {
   "cell_type": "markdown",
   "metadata": {},
   "source": [
    "# Preparing tables"
   ]
  },
  {
   "cell_type": "markdown",
   "metadata": {},
   "source": [
    "### Bad stackoverflow"
   ]
  },
  {
   "cell_type": "code",
   "execution_count": 3,
   "metadata": {
    "collapsed": true
   },
   "outputs": [],
   "source": [
    "data1 = pd.read_csv(\"DB/stack-overflow-data.csv\")"
   ]
  },
  {
   "cell_type": "code",
   "execution_count": 6,
   "metadata": {
    "collapsed": false
   },
   "outputs": [
    {
     "data": {
      "text/html": [
       "<div>\n",
       "<style scoped>\n",
       "    .dataframe tbody tr th:only-of-type {\n",
       "        vertical-align: middle;\n",
       "    }\n",
       "\n",
       "    .dataframe tbody tr th {\n",
       "        vertical-align: top;\n",
       "    }\n",
       "\n",
       "    .dataframe thead th {\n",
       "        text-align: right;\n",
       "    }\n",
       "</style>\n",
       "<table border=\"1\" class=\"dataframe\">\n",
       "  <thead>\n",
       "    <tr style=\"text-align: right;\">\n",
       "      <th></th>\n",
       "      <th>post</th>\n",
       "      <th>tags</th>\n",
       "    </tr>\n",
       "  </thead>\n",
       "  <tbody>\n",
       "    <tr>\n",
       "      <th>0</th>\n",
       "      <td>what is causing this behavior  in our c# datet...</td>\n",
       "      <td>c#</td>\n",
       "    </tr>\n",
       "    <tr>\n",
       "      <th>1</th>\n",
       "      <td>have dynamic html load as if it was in an ifra...</td>\n",
       "      <td>asp.net</td>\n",
       "    </tr>\n",
       "    <tr>\n",
       "      <th>2</th>\n",
       "      <td>how to convert a float value in to min:sec  i ...</td>\n",
       "      <td>objective-c</td>\n",
       "    </tr>\n",
       "    <tr>\n",
       "      <th>3</th>\n",
       "      <td>.net framework 4 redistributable  just wonderi...</td>\n",
       "      <td>.net</td>\n",
       "    </tr>\n",
       "    <tr>\n",
       "      <th>4</th>\n",
       "      <td>trying to calculate and print the mean and its...</td>\n",
       "      <td>python</td>\n",
       "    </tr>\n",
       "  </tbody>\n",
       "</table>\n",
       "</div>"
      ],
      "text/plain": [
       "                                                post         tags\n",
       "0  what is causing this behavior  in our c# datet...           c#\n",
       "1  have dynamic html load as if it was in an ifra...      asp.net\n",
       "2  how to convert a float value in to min:sec  i ...  objective-c\n",
       "3  .net framework 4 redistributable  just wonderi...         .net\n",
       "4  trying to calculate and print the mean and its...       python"
      ]
     },
     "execution_count": 6,
     "metadata": {},
     "output_type": "execute_result"
    }
   ],
   "source": [
    "data1.head()"
   ]
  },
  {
   "cell_type": "code",
   "execution_count": 11,
   "metadata": {
    "collapsed": false
   },
   "outputs": [
    {
     "data": {
      "text/plain": [
       "array(['c#', 'asp.net', 'objective-c', '.net', 'python', 'angularjs',\n",
       "       'iphone', 'ruby-on-rails', 'ios', 'c', 'sql', 'java', 'jquery',\n",
       "       'css', 'c++', 'php', 'android', 'mysql', 'javascript', 'html'],\n",
       "      dtype=object)"
      ]
     },
     "execution_count": 11,
     "metadata": {},
     "output_type": "execute_result"
    }
   ],
   "source": [
    "data1.tags.unique()"
   ]
  },
  {
   "cell_type": "markdown",
   "metadata": {},
   "source": [
    "### Freelance"
   ]
  },
  {
   "cell_type": "code",
   "execution_count": 49,
   "metadata": {
    "collapsed": true
   },
   "outputs": [],
   "source": [
    "data2 = pd.read_csv(\"DB/Freelance_stackexange.csv\")"
   ]
  },
  {
   "cell_type": "code",
   "execution_count": 50,
   "metadata": {
    "collapsed": false
   },
   "outputs": [
    {
     "data": {
      "text/html": [
       "<div>\n",
       "<style scoped>\n",
       "    .dataframe tbody tr th:only-of-type {\n",
       "        vertical-align: middle;\n",
       "    }\n",
       "\n",
       "    .dataframe tbody tr th {\n",
       "        vertical-align: top;\n",
       "    }\n",
       "\n",
       "    .dataframe thead th {\n",
       "        text-align: right;\n",
       "    }\n",
       "</style>\n",
       "<table border=\"1\" class=\"dataframe\">\n",
       "  <thead>\n",
       "    <tr style=\"text-align: right;\">\n",
       "      <th></th>\n",
       "      <th>Id</th>\n",
       "      <th>Title</th>\n",
       "      <th>Body</th>\n",
       "      <th>Tags</th>\n",
       "    </tr>\n",
       "  </thead>\n",
       "  <tbody>\n",
       "    <tr>\n",
       "      <th>0</th>\n",
       "      <td>1</td>\n",
       "      <td>At what point is it no longer a \"Free Change\"</td>\n",
       "      <td>&lt;p&gt;I am a freelance web developer.  I have bui...</td>\n",
       "      <td>&lt;contracts&gt;&lt;changes&gt;&lt;design&gt;</td>\n",
       "    </tr>\n",
       "    <tr>\n",
       "      <th>1</th>\n",
       "      <td>2</td>\n",
       "      <td>Determining when to turn down business</td>\n",
       "      <td>&lt;p&gt;I recently started freelancing and found my...</td>\n",
       "      <td>&lt;attracting-clients&gt;&lt;project&gt;&lt;difficult-client...</td>\n",
       "    </tr>\n",
       "    <tr>\n",
       "      <th>2</th>\n",
       "      <td>3</td>\n",
       "      <td>Tracking hours you are working for clients</td>\n",
       "      <td>&lt;p&gt;When working through the day, I may work on...</td>\n",
       "      <td>&lt;time-management&gt;&lt;time-tracking&gt;</td>\n",
       "    </tr>\n",
       "    <tr>\n",
       "      <th>3</th>\n",
       "      <td>6</td>\n",
       "      <td>How to deal with projects that have gone on to...</td>\n",
       "      <td>&lt;p&gt;I have a project where the client initially...</td>\n",
       "      <td>&lt;project-management&gt;</td>\n",
       "    </tr>\n",
       "    <tr>\n",
       "      <th>4</th>\n",
       "      <td>8</td>\n",
       "      <td>I failed to reach the deadline</td>\n",
       "      <td>&lt;p&gt;I started a project given by client and it ...</td>\n",
       "      <td>&lt;time-management&gt;&lt;project-management&gt;&lt;communic...</td>\n",
       "    </tr>\n",
       "  </tbody>\n",
       "</table>\n",
       "</div>"
      ],
      "text/plain": [
       "   Id                                              Title  \\\n",
       "0   1      At what point is it no longer a \"Free Change\"   \n",
       "1   2             Determining when to turn down business   \n",
       "2   3         Tracking hours you are working for clients   \n",
       "3   6  How to deal with projects that have gone on to...   \n",
       "4   8                     I failed to reach the deadline   \n",
       "\n",
       "                                                Body  \\\n",
       "0  <p>I am a freelance web developer.  I have bui...   \n",
       "1  <p>I recently started freelancing and found my...   \n",
       "2  <p>When working through the day, I may work on...   \n",
       "3  <p>I have a project where the client initially...   \n",
       "4  <p>I started a project given by client and it ...   \n",
       "\n",
       "                                                Tags  \n",
       "0                       <contracts><changes><design>  \n",
       "1  <attracting-clients><project><difficult-client...  \n",
       "2                   <time-management><time-tracking>  \n",
       "3                               <project-management>  \n",
       "4  <time-management><project-management><communic...  "
      ]
     },
     "execution_count": 50,
     "metadata": {},
     "output_type": "execute_result"
    }
   ],
   "source": [
    "data2.head()"
   ]
  },
  {
   "cell_type": "code",
   "execution_count": 21,
   "metadata": {
    "collapsed": true
   },
   "outputs": [],
   "source": [
    "import re\n",
    "\n",
    "def body_cleaner(body):\n",
    "    \"\"\"body is a string\"\"\"\n",
    "    body = re.sub(r'<[^>]*>', '', body)\n",
    "    #body = re.sub(r'\\^', '', body)\n",
    "    return body"
   ]
  },
  {
   "cell_type": "code",
   "execution_count": 25,
   "metadata": {
    "collapsed": false
   },
   "outputs": [
    {
     "data": {
      "text/plain": [
       "'At what point is it no longer a \"Free Change\"'"
      ]
     },
     "execution_count": 25,
     "metadata": {},
     "output_type": "execute_result"
    }
   ],
   "source": [
    "data2.Title[0]"
   ]
  },
  {
   "cell_type": "code",
   "execution_count": 24,
   "metadata": {
    "collapsed": false
   },
   "outputs": [
    {
     "data": {
      "text/plain": [
       "'At what point is it no longer a \"Free Change\"'"
      ]
     },
     "execution_count": 24,
     "metadata": {},
     "output_type": "execute_result"
    }
   ],
   "source": [
    "body_cleaner(data2.Title[0])"
   ]
  },
  {
   "cell_type": "code",
   "execution_count": 51,
   "metadata": {
    "collapsed": true
   },
   "outputs": [],
   "source": [
    "freelance_data = pd.DataFrame(columns=['Body', 'Tag'])\n",
    "freelance_tags = set()"
   ]
  },
  {
   "cell_type": "code",
   "execution_count": 52,
   "metadata": {
    "collapsed": false
   },
   "outputs": [
    {
     "data": {
      "text/plain": [
       "\"['abc', 'cde']\""
      ]
     },
     "execution_count": 52,
     "metadata": {},
     "output_type": "execute_result"
    }
   ],
   "source": [
    "str(['abc', 'cde'])"
   ]
  },
  {
   "cell_type": "code",
   "execution_count": 53,
   "metadata": {
    "collapsed": false
   },
   "outputs": [],
   "source": [
    "for body, tag_row in zip(data2.Body, data2.Tags):\n",
    "    tags = (tag_row[1:-1]).split('><')\n",
    "    freelance_tags |= set(tags)\n",
    "    freelance_data = freelance_data.append({'Body' : body_cleaner(body), 'Tag' : tags}, ignore_index=True)"
   ]
  },
  {
   "cell_type": "code",
   "execution_count": 54,
   "metadata": {
    "collapsed": false
   },
   "outputs": [
    {
     "data": {
      "text/html": [
       "<div>\n",
       "<style scoped>\n",
       "    .dataframe tbody tr th:only-of-type {\n",
       "        vertical-align: middle;\n",
       "    }\n",
       "\n",
       "    .dataframe tbody tr th {\n",
       "        vertical-align: top;\n",
       "    }\n",
       "\n",
       "    .dataframe thead th {\n",
       "        text-align: right;\n",
       "    }\n",
       "</style>\n",
       "<table border=\"1\" class=\"dataframe\">\n",
       "  <thead>\n",
       "    <tr style=\"text-align: right;\">\n",
       "      <th></th>\n",
       "      <th>Body</th>\n",
       "      <th>Tag</th>\n",
       "    </tr>\n",
       "  </thead>\n",
       "  <tbody>\n",
       "    <tr>\n",
       "      <th>0</th>\n",
       "      <td>I am a freelance web developer.  I have built ...</td>\n",
       "      <td>[contracts, changes, design]</td>\n",
       "    </tr>\n",
       "    <tr>\n",
       "      <th>1</th>\n",
       "      <td>I recently started freelancing and found mysel...</td>\n",
       "      <td>[attracting-clients, project, difficult-client...</td>\n",
       "    </tr>\n",
       "    <tr>\n",
       "      <th>2</th>\n",
       "      <td>When working through the day, I may work on ma...</td>\n",
       "      <td>[time-management, time-tracking]</td>\n",
       "    </tr>\n",
       "    <tr>\n",
       "      <th>3</th>\n",
       "      <td>I have a project where the client initially re...</td>\n",
       "      <td>[project-management]</td>\n",
       "    </tr>\n",
       "    <tr>\n",
       "      <th>4</th>\n",
       "      <td>I started a project given by client and it wen...</td>\n",
       "      <td>[time-management, project-management, communic...</td>\n",
       "    </tr>\n",
       "  </tbody>\n",
       "</table>\n",
       "</div>"
      ],
      "text/plain": [
       "                                                Body  \\\n",
       "0  I am a freelance web developer.  I have built ...   \n",
       "1  I recently started freelancing and found mysel...   \n",
       "2  When working through the day, I may work on ma...   \n",
       "3  I have a project where the client initially re...   \n",
       "4  I started a project given by client and it wen...   \n",
       "\n",
       "                                                 Tag  \n",
       "0                       [contracts, changes, design]  \n",
       "1  [attracting-clients, project, difficult-client...  \n",
       "2                   [time-management, time-tracking]  \n",
       "3                               [project-management]  \n",
       "4  [time-management, project-management, communic...  "
      ]
     },
     "execution_count": 54,
     "metadata": {},
     "output_type": "execute_result"
    }
   ],
   "source": [
    "freelance_data.head()"
   ]
  },
  {
   "cell_type": "code",
   "execution_count": 55,
   "metadata": {
    "collapsed": false
   },
   "outputs": [
    {
     "data": {
      "text/plain": [
       "{'accounting',\n",
       " 'advertising',\n",
       " 'attracting-clients',\n",
       " 'billable-hours',\n",
       " 'billing',\n",
       " 'bootstrapping',\n",
       " 'branch-office',\n",
       " 'branding',\n",
       " 'budget',\n",
       " 'business-plan',\n",
       " 'canada',\n",
       " 'changes',\n",
       " 'client-support',\n",
       " 'clients',\n",
       " 'communication',\n",
       " 'company-management',\n",
       " 'consulting',\n",
       " 'contract-cancellation',\n",
       " 'contract-to-hire',\n",
       " 'contracts',\n",
       " 'copyright',\n",
       " 'customer-relations',\n",
       " 'design',\n",
       " 'difficult-client',\n",
       " 'disability',\n",
       " 'dress-code',\n",
       " 'entity',\n",
       " 'estimation',\n",
       " 'ethics',\n",
       " 'eu',\n",
       " 'evaluating-clients',\n",
       " 'expenses',\n",
       " 'finance',\n",
       " 'fixed-price',\n",
       " 'foreign-incorporation',\n",
       " 'foreign-markets',\n",
       " 'france',\n",
       " 'freelance-websites',\n",
       " 'friends-services',\n",
       " 'germany',\n",
       " 'group-freelancing',\n",
       " 'growth',\n",
       " 'hmrc',\n",
       " 'hourly',\n",
       " 'incorporation',\n",
       " 'information-technology',\n",
       " 'insurance',\n",
       " 'interview',\n",
       " 'invoices',\n",
       " 'late-payment',\n",
       " 'legal',\n",
       " 'licensing',\n",
       " 'linkedin',\n",
       " 'llc',\n",
       " 'local-business',\n",
       " 'long-term',\n",
       " 'maintenance',\n",
       " 'marketing',\n",
       " 'money',\n",
       " 'moonlighting',\n",
       " 'nda',\n",
       " 'negotiation',\n",
       " 'nonprofit',\n",
       " 'offer',\n",
       " 'outsourcing',\n",
       " 'over-due',\n",
       " 'overtime',\n",
       " 'ownership',\n",
       " 'partner',\n",
       " 'pay-rate',\n",
       " 'payment-terms',\n",
       " 'payments',\n",
       " 'penalties',\n",
       " 'pension',\n",
       " 'portfolio',\n",
       " 'price',\n",
       " 'price-per-hour',\n",
       " 'productivity',\n",
       " 'profit-share',\n",
       " 'programmer',\n",
       " 'project',\n",
       " 'project-bidding',\n",
       " 'project-management',\n",
       " 'proposal',\n",
       " 'referral',\n",
       " 'registration',\n",
       " 'regression-testing',\n",
       " 'remote',\n",
       " 'resume',\n",
       " 'retainer',\n",
       " 'safety',\n",
       " 'sales',\n",
       " 'scope-creep',\n",
       " 'scope-of-work',\n",
       " 'share-ratio',\n",
       " 'sickness',\n",
       " 'small-projects',\n",
       " 'software',\n",
       " 'spain',\n",
       " 'startups',\n",
       " 'subcontracting',\n",
       " 'switzerland',\n",
       " 'taxes',\n",
       " 'time-management',\n",
       " 'time-tracking',\n",
       " 'translations',\n",
       " 'travel',\n",
       " 'trust',\n",
       " 'uk',\n",
       " 'untagged',\n",
       " 'usa',\n",
       " 'vat',\n",
       " 'virtual-office',\n",
       " 'web-development',\n",
       " 'webmasters',\n",
       " 'working-from-home',\n",
       " 'writing'}"
      ]
     },
     "execution_count": 55,
     "metadata": {},
     "output_type": "execute_result"
    }
   ],
   "source": [
    "freelance_tags"
   ]
  },
  {
   "cell_type": "code",
   "execution_count": 56,
   "metadata": {
    "collapsed": true
   },
   "outputs": [],
   "source": [
    "freelance_data.to_csv(\"DB/freelance_data.csv\", sep=',')"
   ]
  },
  {
   "cell_type": "code",
   "execution_count": 44,
   "metadata": {
    "collapsed": false
   },
   "outputs": [
    {
     "data": {
      "text/plain": [
       "\"{'ethics', 'productivity', 'disability', 'overtime', 'time-management', 'dress-code', 'virtual-office', 'attracting-clients', 'untagged', 'finance', 'referral', 'billing', 'startups', 'nonprofit', 'consulting', 'difficult-client', 'remote', 'money', 'maintenance', 'switzerland', 'design', 'invoices', 'uk', 'proposal', 'webmasters', 'translations', 'insurance', 'software', 'working-from-home', 'local-business', 'vat', 'ownership', 'company-management', 'nda', 'contract-cancellation', 'friends-services', 'trust', 'partner', 'freelance-websites', 'safety', 'hourly', 'sales', 'fixed-price', 'advertising', 'evaluating-clients', 'foreign-incorporation', 'project-bidding', 'accounting', 'copyright', 'contract-to-hire', 'share-ratio', 'regression-testing', 'changes', 'growth', 'client-support', 'price-per-hour', 'communication', 'contracts', 'payments', 'germany', 'long-term', 'entity', 'estimation', 'travel', 'profit-share', 'hmrc', 'small-projects', 'penalties', 'pay-rate', 'sickness', 'scope-creep', 'payment-terms', 'business-plan', 'moonlighting', 'late-payment', 'france', 'negotiation', 'bootstrapping', 'budget', 'over-due', 'branch-office', 'branding', 'clients', 'time-tracking', 'customer-relations', 'licensing', 'taxes', 'pension', 'scope-of-work', 'eu', 'offer', 'expenses', 'interview', 'project-management', 'portfolio', 'incorporation', 'llc', 'usa', 'linkedin', 'retainer', 'price', 'marketing', 'canada', 'outsourcing', 'writing', 'subcontracting', 'foreign-markets', 'spain', 'legal', 'project', 'programmer', 'billable-hours', 'web-development', 'group-freelancing', 'information-technology', 'resume', 'registration'}\""
      ]
     },
     "execution_count": 44,
     "metadata": {},
     "output_type": "execute_result"
    }
   ],
   "source": [
    "str(freelance_tags)"
   ]
  },
  {
   "cell_type": "code",
   "execution_count": 57,
   "metadata": {
    "collapsed": true
   },
   "outputs": [],
   "source": [
    "out = open(\"DB/freelance_data_tags\", 'w')"
   ]
  },
  {
   "cell_type": "code",
   "execution_count": 58,
   "metadata": {
    "collapsed": true
   },
   "outputs": [],
   "source": [
    "tr = len(freelance_tags) - 1\n",
    "count = 0\n",
    "for t in freelance_tags:\n",
    "    out.write(t)\n",
    "    if count < tr:\n",
    "        count += 1\n",
    "        out.write('|')\n",
    "out.close()"
   ]
  },
  {
   "cell_type": "markdown",
   "metadata": {},
   "source": [
    "### startup"
   ]
  },
  {
   "cell_type": "code",
   "execution_count": 59,
   "metadata": {
    "collapsed": true
   },
   "outputs": [],
   "source": [
    "data3 = pd.read_csv(\"DB/StartUp_stackexange.csv\")"
   ]
  },
  {
   "cell_type": "code",
   "execution_count": 60,
   "metadata": {
    "collapsed": false
   },
   "outputs": [
    {
     "data": {
      "text/html": [
       "<div>\n",
       "<style scoped>\n",
       "    .dataframe tbody tr th:only-of-type {\n",
       "        vertical-align: middle;\n",
       "    }\n",
       "\n",
       "    .dataframe tbody tr th {\n",
       "        vertical-align: top;\n",
       "    }\n",
       "\n",
       "    .dataframe thead th {\n",
       "        text-align: right;\n",
       "    }\n",
       "</style>\n",
       "<table border=\"1\" class=\"dataframe\">\n",
       "  <thead>\n",
       "    <tr style=\"text-align: right;\">\n",
       "      <th></th>\n",
       "      <th>Id</th>\n",
       "      <th>Title</th>\n",
       "      <th>Body</th>\n",
       "      <th>Tags</th>\n",
       "    </tr>\n",
       "  </thead>\n",
       "  <tbody>\n",
       "    <tr>\n",
       "      <th>0</th>\n",
       "      <td>1</td>\n",
       "      <td>Is my LLC required to have a registered agent?</td>\n",
       "      <td>&lt;p&gt;After registering my small LLC, I signed up...</td>\n",
       "      <td>&lt;llc&gt;&lt;new-hampshire&gt;&lt;united-states&gt;</td>\n",
       "    </tr>\n",
       "    <tr>\n",
       "      <th>1</th>\n",
       "      <td>2</td>\n",
       "      <td>Dividing profits amongst developers and designers</td>\n",
       "      <td>&lt;p&gt;If I have a startup that produces apps, is ...</td>\n",
       "      <td>&lt;tech-company&gt;&lt;mobile-apps&gt;&lt;equity&gt;</td>\n",
       "    </tr>\n",
       "    <tr>\n",
       "      <th>2</th>\n",
       "      <td>6</td>\n",
       "      <td>How long should my business plan be?</td>\n",
       "      <td>&lt;p&gt;In short, for my very first business plan w...</td>\n",
       "      <td>&lt;business-plan&gt;</td>\n",
       "    </tr>\n",
       "    <tr>\n",
       "      <th>3</th>\n",
       "      <td>7</td>\n",
       "      <td>What key intellectual property should a startu...</td>\n",
       "      <td>&lt;p&gt;We know that venture capitalists keep a kee...</td>\n",
       "      <td>&lt;intellectual-property&gt;&lt;investment&gt;&lt;venture-ca...</td>\n",
       "    </tr>\n",
       "    <tr>\n",
       "      <th>4</th>\n",
       "      <td>13</td>\n",
       "      <td>Are there benefits gained from registering a l...</td>\n",
       "      <td>&lt;p&gt;I'm thinking of doing some freelance work, ...</td>\n",
       "      <td>&lt;united-kingdom&gt;&lt;freelancing&gt;</td>\n",
       "    </tr>\n",
       "  </tbody>\n",
       "</table>\n",
       "</div>"
      ],
      "text/plain": [
       "   Id                                              Title  \\\n",
       "0   1     Is my LLC required to have a registered agent?   \n",
       "1   2  Dividing profits amongst developers and designers   \n",
       "2   6               How long should my business plan be?   \n",
       "3   7  What key intellectual property should a startu...   \n",
       "4  13  Are there benefits gained from registering a l...   \n",
       "\n",
       "                                                Body  \\\n",
       "0  <p>After registering my small LLC, I signed up...   \n",
       "1  <p>If I have a startup that produces apps, is ...   \n",
       "2  <p>In short, for my very first business plan w...   \n",
       "3  <p>We know that venture capitalists keep a kee...   \n",
       "4  <p>I'm thinking of doing some freelance work, ...   \n",
       "\n",
       "                                                Tags  \n",
       "0                <llc><new-hampshire><united-states>  \n",
       "1                <tech-company><mobile-apps><equity>  \n",
       "2                                    <business-plan>  \n",
       "3  <intellectual-property><investment><venture-ca...  \n",
       "4                      <united-kingdom><freelancing>  "
      ]
     },
     "execution_count": 60,
     "metadata": {},
     "output_type": "execute_result"
    }
   ],
   "source": [
    "data3.head()"
   ]
  },
  {
   "cell_type": "code",
   "execution_count": 61,
   "metadata": {
    "collapsed": true
   },
   "outputs": [],
   "source": [
    "startup_data = pd.DataFrame(columns=['Body', 'Tag'])\n",
    "startup_tags = set()"
   ]
  },
  {
   "cell_type": "code",
   "execution_count": 35,
   "metadata": {
    "collapsed": false
   },
   "outputs": [
    {
     "data": {
      "text/plain": [
       "\"['abc', 'cde']\""
      ]
     },
     "execution_count": 35,
     "metadata": {},
     "output_type": "execute_result"
    }
   ],
   "source": [
    "str(['abc', 'cde'])"
   ]
  },
  {
   "cell_type": "code",
   "execution_count": 63,
   "metadata": {
    "collapsed": false
   },
   "outputs": [],
   "source": [
    "for body, tag_row in zip(data3.Body, data3.Tags):\n",
    "    tags = (tag_row[1:-1]).split('><')\n",
    "    startup_tags |= set(tags)\n",
    "    startup_data = startup_data.append({'Body' : body_cleaner(body), 'Tag' : tags}, ignore_index=True)"
   ]
  },
  {
   "cell_type": "code",
   "execution_count": 64,
   "metadata": {
    "collapsed": false
   },
   "outputs": [
    {
     "data": {
      "text/html": [
       "<div>\n",
       "<style scoped>\n",
       "    .dataframe tbody tr th:only-of-type {\n",
       "        vertical-align: middle;\n",
       "    }\n",
       "\n",
       "    .dataframe tbody tr th {\n",
       "        vertical-align: top;\n",
       "    }\n",
       "\n",
       "    .dataframe thead th {\n",
       "        text-align: right;\n",
       "    }\n",
       "</style>\n",
       "<table border=\"1\" class=\"dataframe\">\n",
       "  <thead>\n",
       "    <tr style=\"text-align: right;\">\n",
       "      <th></th>\n",
       "      <th>Body</th>\n",
       "      <th>Tag</th>\n",
       "    </tr>\n",
       "  </thead>\n",
       "  <tbody>\n",
       "    <tr>\n",
       "      <th>0</th>\n",
       "      <td>After registering my small LLC, I signed up fo...</td>\n",
       "      <td>[llc, new-hampshire, united-states]</td>\n",
       "    </tr>\n",
       "    <tr>\n",
       "      <th>1</th>\n",
       "      <td>If I have a startup that produces apps, is the...</td>\n",
       "      <td>[tech-company, mobile-apps, equity]</td>\n",
       "    </tr>\n",
       "    <tr>\n",
       "      <th>2</th>\n",
       "      <td>In short, for my very first business plan whic...</td>\n",
       "      <td>[business-plan]</td>\n",
       "    </tr>\n",
       "    <tr>\n",
       "      <th>3</th>\n",
       "      <td>We know that venture capitalists keep a keen e...</td>\n",
       "      <td>[intellectual-property, investment, venture-ca...</td>\n",
       "    </tr>\n",
       "    <tr>\n",
       "      <th>4</th>\n",
       "      <td>I'm thinking of doing some freelance work, and...</td>\n",
       "      <td>[united-kingdom, freelancing]</td>\n",
       "    </tr>\n",
       "  </tbody>\n",
       "</table>\n",
       "</div>"
      ],
      "text/plain": [
       "                                                Body  \\\n",
       "0  After registering my small LLC, I signed up fo...   \n",
       "1  If I have a startup that produces apps, is the...   \n",
       "2  In short, for my very first business plan whic...   \n",
       "3  We know that venture capitalists keep a keen e...   \n",
       "4  I'm thinking of doing some freelance work, and...   \n",
       "\n",
       "                                                 Tag  \n",
       "0                [llc, new-hampshire, united-states]  \n",
       "1                [tech-company, mobile-apps, equity]  \n",
       "2                                    [business-plan]  \n",
       "3  [intellectual-property, investment, venture-ca...  \n",
       "4                      [united-kingdom, freelancing]  "
      ]
     },
     "execution_count": 64,
     "metadata": {},
     "output_type": "execute_result"
    }
   ],
   "source": [
    "startup_data.head()"
   ]
  },
  {
   "cell_type": "code",
   "execution_count": 65,
   "metadata": {
    "collapsed": false
   },
   "outputs": [
    {
     "data": {
      "text/plain": [
       "{'83b',\n",
       " 'ab-testing',\n",
       " 'accelerators',\n",
       " 'accounting',\n",
       " 'acquisition',\n",
       " 'advertising',\n",
       " 'affiliate-marketing',\n",
       " 'agile',\n",
       " 'analytics',\n",
       " 'android-development',\n",
       " 'angel-investors',\n",
       " 'app-store',\n",
       " 'app-store-optimization',\n",
       " 'applications',\n",
       " 'applying',\n",
       " 'australia',\n",
       " 'b2b',\n",
       " 'benefits',\n",
       " 'beta-testing',\n",
       " 'billing',\n",
       " 'bizspark',\n",
       " 'board',\n",
       " 'bootstrapping',\n",
       " 'brand',\n",
       " 'budget',\n",
       " 'buisness-model',\n",
       " 'business-capital',\n",
       " 'business-card',\n",
       " 'business-methodology',\n",
       " 'business-model',\n",
       " 'business-plan',\n",
       " 'business-proposal',\n",
       " 'business-registration',\n",
       " 'business-structure',\n",
       " 'buy-out',\n",
       " 'c-corporation',\n",
       " 'california',\n",
       " 'canada',\n",
       " 'cashflow',\n",
       " 'ceo',\n",
       " 'chicken-egg',\n",
       " 'china',\n",
       " 'churn',\n",
       " 'closing',\n",
       " 'cloud',\n",
       " 'co-founder',\n",
       " 'colorado',\n",
       " 'commissions',\n",
       " 'communication',\n",
       " 'community',\n",
       " 'company-culture',\n",
       " 'compensation',\n",
       " 'competition',\n",
       " 'competitive-events',\n",
       " 'consulting',\n",
       " 'content',\n",
       " 'contractors',\n",
       " 'contracts',\n",
       " 'convertible-note',\n",
       " 'copyright',\n",
       " 'corporation',\n",
       " 'crm',\n",
       " 'crowd-funding',\n",
       " 'cto',\n",
       " 'customer-development',\n",
       " 'customer-service',\n",
       " 'customs',\n",
       " 'data',\n",
       " 'debt',\n",
       " 'delaware',\n",
       " 'design',\n",
       " 'designation',\n",
       " 'difficult-client',\n",
       " 'director-duties',\n",
       " 'discounts',\n",
       " 'distribution',\n",
       " 'domain-name',\n",
       " 'e-commerce',\n",
       " 'earnings',\n",
       " 'economics',\n",
       " 'education',\n",
       " 'email-marketing',\n",
       " 'employee-compensation',\n",
       " 'employees',\n",
       " 'employment',\n",
       " 'enterprise',\n",
       " 'entrepreneurism-abroad',\n",
       " 'entrepreneurship',\n",
       " 'equity',\n",
       " 'europe',\n",
       " 'exit',\n",
       " 'expansion',\n",
       " 'export',\n",
       " 'family-business',\n",
       " 'field-sales',\n",
       " 'filing',\n",
       " 'finance',\n",
       " 'financing',\n",
       " 'forecasting',\n",
       " 'founder',\n",
       " 'france',\n",
       " 'freelancing',\n",
       " 'fulfilment',\n",
       " 'funding',\n",
       " 'fundraising',\n",
       " 'game-studio',\n",
       " 'gaming',\n",
       " 'georgia',\n",
       " 'germany',\n",
       " 'global',\n",
       " 'goals',\n",
       " 'grants',\n",
       " 'growth',\n",
       " 'hardware',\n",
       " 'hiring',\n",
       " 'hours',\n",
       " 'human-resources',\n",
       " 'idea',\n",
       " 'importing',\n",
       " 'incorporation',\n",
       " 'incubators',\n",
       " 'india',\n",
       " 'innovation-accounting',\n",
       " 'insurance',\n",
       " 'intellectual-property',\n",
       " 'international',\n",
       " 'internet',\n",
       " 'interns',\n",
       " 'intrapreneur',\n",
       " 'investment',\n",
       " 'investors',\n",
       " 'iowa',\n",
       " 'ipo',\n",
       " 'italy',\n",
       " 'iterative-development',\n",
       " 'launch',\n",
       " 'law',\n",
       " 'lawyer',\n",
       " 'leadership',\n",
       " 'lean',\n",
       " 'lean-startup',\n",
       " 'lean-startup-machine',\n",
       " 'learning',\n",
       " 'legal',\n",
       " 'liability-insurance',\n",
       " 'licensing',\n",
       " 'liquidation',\n",
       " 'llc',\n",
       " 'logo',\n",
       " 'low-capital',\n",
       " 'ltd',\n",
       " 'ltv',\n",
       " 'management',\n",
       " 'market-research',\n",
       " 'market-size',\n",
       " 'marketing',\n",
       " 'marketplace',\n",
       " 'maryland',\n",
       " 'massachusetts',\n",
       " 'media',\n",
       " 'merchant-services',\n",
       " 'metrics',\n",
       " 'michigan',\n",
       " 'minimum-viable-product',\n",
       " 'mobile-apps',\n",
       " 'monetization',\n",
       " 'mvp',\n",
       " 'naming',\n",
       " 'negotiation',\n",
       " 'network-effect',\n",
       " 'networking',\n",
       " 'new-hampshire',\n",
       " 'new-york',\n",
       " 'non-disclosure-agreement',\n",
       " 'non-profit',\n",
       " 'online-store',\n",
       " 'online-tool',\n",
       " 'open-source',\n",
       " 'outsourcing',\n",
       " 'ownership',\n",
       " 'pakistan',\n",
       " 'paperwork',\n",
       " 'parallel-entrepreneur',\n",
       " 'partners',\n",
       " 'partnership',\n",
       " 'patent',\n",
       " 'pay',\n",
       " 'payment',\n",
       " 'peer-to-peer',\n",
       " 'pennsylvania',\n",
       " 'pitch',\n",
       " 'pivoting',\n",
       " 'pre-launch',\n",
       " 'pricing',\n",
       " 'privacy',\n",
       " 'private-company',\n",
       " 'process',\n",
       " 'product',\n",
       " 'product-market-fit',\n",
       " 'profit-sharing',\n",
       " 'programmers',\n",
       " 'project-management',\n",
       " 'prototyping',\n",
       " 'public-company',\n",
       " 'quotations',\n",
       " 'remote',\n",
       " 'resale',\n",
       " 'resources',\n",
       " 'restaurants',\n",
       " 'restricted-stock',\n",
       " 'retail',\n",
       " 'retention',\n",
       " 'revenue',\n",
       " 'russia',\n",
       " 's-corporation',\n",
       " 'saas',\n",
       " 'salary',\n",
       " 'sales',\n",
       " 'seasonal',\n",
       " 'security',\n",
       " 'seed',\n",
       " 'sell',\n",
       " 'seo',\n",
       " 'servers',\n",
       " 'service',\n",
       " 'shares',\n",
       " 'shipping',\n",
       " 'silicon-valley',\n",
       " 'singapore',\n",
       " 'skills',\n",
       " 'social-entrepreneurship',\n",
       " 'social-networking',\n",
       " 'software',\n",
       " 'sole-proprietorship',\n",
       " 'south-america',\n",
       " 'sri-lanka',\n",
       " 'startup-costs',\n",
       " 'startup-weekend',\n",
       " 'statistics',\n",
       " 'stealth',\n",
       " 'stock',\n",
       " 'stock-options',\n",
       " 'strategy',\n",
       " 'structure',\n",
       " 'target-market',\n",
       " 'tax',\n",
       " 'tax-structure',\n",
       " 'taxes',\n",
       " 'team',\n",
       " 'tech-company',\n",
       " 'term-sheet',\n",
       " 'terminology',\n",
       " 'testing',\n",
       " 'texas',\n",
       " 'time-management',\n",
       " 'trademark',\n",
       " 'umbrella',\n",
       " 'united-kingdom',\n",
       " 'united-states',\n",
       " 'untagged',\n",
       " 'us',\n",
       " 'us-government',\n",
       " 'user-acquisition',\n",
       " 'user-engagement',\n",
       " 'valuation',\n",
       " 'value',\n",
       " 'vat',\n",
       " 'venture-capital',\n",
       " 'vesting',\n",
       " 'video',\n",
       " 'vision',\n",
       " 'web-apps',\n",
       " 'web-development',\n",
       " 'website',\n",
       " 'work-for-hire',\n",
       " 'yc-how-to-start-a-startup',\n",
       " 'yc-startup-school',\n",
       " 'ycombinator',\n",
       " 'young-entrepreneurs'}"
      ]
     },
     "execution_count": 65,
     "metadata": {},
     "output_type": "execute_result"
    }
   ],
   "source": [
    "startup_tags"
   ]
  },
  {
   "cell_type": "code",
   "execution_count": 66,
   "metadata": {
    "collapsed": true
   },
   "outputs": [],
   "source": [
    "startup_data.to_csv(\"DB/startup_data.csv\", sep=',')"
   ]
  },
  {
   "cell_type": "code",
   "execution_count": 68,
   "metadata": {
    "collapsed": true
   },
   "outputs": [],
   "source": [
    "out = open(\"DB/startup_data_tags\", 'w')"
   ]
  },
  {
   "cell_type": "code",
   "execution_count": 69,
   "metadata": {
    "collapsed": false
   },
   "outputs": [],
   "source": [
    "tr = len(startup_tags) - 1\n",
    "count = 0\n",
    "for t in startup_tags:\n",
    "    out.write(t)\n",
    "    if count < tr:\n",
    "        count += 1\n",
    "        out.write('|')\n",
    "out.close()"
   ]
  }
 ],
 "metadata": {
  "kernelspec": {
   "display_name": "Python 3",
   "language": "python",
   "name": "python3"
  },
  "language_info": {
   "codemirror_mode": {
    "name": "ipython",
    "version": 3
   },
   "file_extension": ".py",
   "mimetype": "text/x-python",
   "name": "python",
   "nbconvert_exporter": "python",
   "pygments_lexer": "ipython3",
   "version": "3.6.0"
  }
 },
 "nbformat": 4,
 "nbformat_minor": 2
}
